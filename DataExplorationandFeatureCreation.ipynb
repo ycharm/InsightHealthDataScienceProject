{
 "cells": [
  {
   "cell_type": "markdown",
   "metadata": {},
   "source": [
    "Explore the data.\n",
    "Use publication information (abstracts titles etc.) to add what features seem useful"
   ]
  },
  {
   "cell_type": "code",
   "execution_count": 6,
   "metadata": {},
   "outputs": [],
   "source": [
    "#All imports\n",
    "import pandas as pd\n",
    "import pickle\n",
    "import numpy as np\n",
    "from sklearn.metrics import confusion_matrix\n",
    "from sklearn import datasets, linear_model\n",
    "from sklearn.model_selection import train_test_split\n",
    "from matplotlib import pyplot as plt\n",
    "from sklearn.metrics import f1_score\n",
    "from sklearn.metrics import roc_auc_score\n",
    "from sklearn.ensemble import RandomForestClassifier\n",
    "import seaborn as sns\n",
    "import statsmodels.api as sm\n",
    "import sklearn"
   ]
  },
  {
   "cell_type": "code",
   "execution_count": 7,
   "metadata": {},
   "outputs": [
    {
     "data": {
      "text/html": [
       "<div>\n",
       "<style scoped>\n",
       "    .dataframe tbody tr th:only-of-type {\n",
       "        vertical-align: middle;\n",
       "    }\n",
       "\n",
       "    .dataframe tbody tr th {\n",
       "        vertical-align: top;\n",
       "    }\n",
       "\n",
       "    .dataframe thead th {\n",
       "        text-align: right;\n",
       "    }\n",
       "</style>\n",
       "<table border=\"1\" class=\"dataframe\">\n",
       "  <thead>\n",
       "    <tr style=\"text-align: right;\">\n",
       "      <th></th>\n",
       "      <th>aboutMe</th>\n",
       "      <th>address.line1</th>\n",
       "      <th>address.line2</th>\n",
       "      <th>affiliatedHospitalIDs</th>\n",
       "      <th>age</th>\n",
       "      <th>gender</th>\n",
       "      <th>isRecommendedProvider</th>\n",
       "      <th>payorCount</th>\n",
       "      <th>premiumDisplayOasLabel</th>\n",
       "      <th>providerSponsorships</th>\n",
       "      <th>specialistDesc</th>\n",
       "      <th>surveyOverallRatingPercent</th>\n",
       "      <th>surveyOverallRatingScore</th>\n",
       "      <th>surveyStarRatingScore</th>\n",
       "      <th>surveyUserCount</th>\n",
       "      <th>yearsSinceGraduation</th>\n",
       "      <th>isbest</th>\n",
       "    </tr>\n",
       "    <tr>\n",
       "      <th>fullname</th>\n",
       "      <th></th>\n",
       "      <th></th>\n",
       "      <th></th>\n",
       "      <th></th>\n",
       "      <th></th>\n",
       "      <th></th>\n",
       "      <th></th>\n",
       "      <th></th>\n",
       "      <th></th>\n",
       "      <th></th>\n",
       "      <th></th>\n",
       "      <th></th>\n",
       "      <th></th>\n",
       "      <th></th>\n",
       "      <th></th>\n",
       "      <th></th>\n",
       "      <th></th>\n",
       "    </tr>\n",
       "  </thead>\n",
       "  <tbody>\n",
       "    <tr>\n",
       "      <th>Sylvia Adams</th>\n",
       "      <td>Dr. Sylvia Adams, MD is an Oncology Specialist...</td>\n",
       "      <td>160 E 34th St Fl 4</td>\n",
       "      <td>New York, NY 10016</td>\n",
       "      <td>[HGST7FF97B36330214]</td>\n",
       "      <td>48.0</td>\n",
       "      <td>F</td>\n",
       "      <td>True</td>\n",
       "      <td>0</td>\n",
       "      <td>call</td>\n",
       "      <td>NaN</td>\n",
       "      <td>[Oncology Specialist, Hematology Specialist, I...</td>\n",
       "      <td>96.0</td>\n",
       "      <td>10.0</td>\n",
       "      <td>10.0</td>\n",
       "      <td>36.0</td>\n",
       "      <td>23.0</td>\n",
       "      <td>False</td>\n",
       "    </tr>\n",
       "    <tr>\n",
       "      <th>Morton Coleman</th>\n",
       "      <td>Dr. Morton Coleman, MD is a Hematology Special...</td>\n",
       "      <td>407 E 70th St Fl 3</td>\n",
       "      <td>New York, NY 10021</td>\n",
       "      <td>[HGST750A7B36330101]</td>\n",
       "      <td>78.0</td>\n",
       "      <td>M</td>\n",
       "      <td>True</td>\n",
       "      <td>0</td>\n",
       "      <td>call</td>\n",
       "      <td>NaN</td>\n",
       "      <td>[Hematology Specialist, Oncology Specialist, I...</td>\n",
       "      <td>96.0</td>\n",
       "      <td>10.0</td>\n",
       "      <td>10.0</td>\n",
       "      <td>16.0</td>\n",
       "      <td>55.0</td>\n",
       "      <td>False</td>\n",
       "    </tr>\n",
       "    <tr>\n",
       "      <th>Karen Haglof</th>\n",
       "      <td>Dr. Karen Haglof, MD is a Hematology Specialis...</td>\n",
       "      <td>157 E 32nd St Fl 2</td>\n",
       "      <td>New York, NY 10016</td>\n",
       "      <td>[HGST7FF97B36330214]</td>\n",
       "      <td>62.0</td>\n",
       "      <td>F</td>\n",
       "      <td>True</td>\n",
       "      <td>0</td>\n",
       "      <td>call</td>\n",
       "      <td>NaN</td>\n",
       "      <td>[Hematology Specialist, Oncology Specialist, I...</td>\n",
       "      <td>88.0</td>\n",
       "      <td>9.0</td>\n",
       "      <td>9.0</td>\n",
       "      <td>14.0</td>\n",
       "      <td>19.0</td>\n",
       "      <td>False</td>\n",
       "    </tr>\n",
       "    <tr>\n",
       "      <th>Michael Grossbard</th>\n",
       "      <td>Dr. Grossbard is the Director of the Hematolog...</td>\n",
       "      <td>240 E 38th St Fl 19</td>\n",
       "      <td>New York, NY 10016</td>\n",
       "      <td>[HGST7FF97B36330214]</td>\n",
       "      <td>57.0</td>\n",
       "      <td>M</td>\n",
       "      <td>False</td>\n",
       "      <td>0</td>\n",
       "      <td>static</td>\n",
       "      <td>NaN</td>\n",
       "      <td>[Oncology Specialist, Hematology Specialist, I...</td>\n",
       "      <td>70.0</td>\n",
       "      <td>7.0</td>\n",
       "      <td>7.0</td>\n",
       "      <td>10.0</td>\n",
       "      <td>32.0</td>\n",
       "      <td>True</td>\n",
       "    </tr>\n",
       "    <tr>\n",
       "      <th>Jeffrey Tepler</th>\n",
       "      <td>Dr. Jeffrey Tepler, MD is a Hematology Special...</td>\n",
       "      <td>310 E 72nd St Fl 1</td>\n",
       "      <td>New York, NY 10021</td>\n",
       "      <td>[HGST750A7B36330101]</td>\n",
       "      <td>60.0</td>\n",
       "      <td>M</td>\n",
       "      <td>True</td>\n",
       "      <td>0</td>\n",
       "      <td>call</td>\n",
       "      <td>NaN</td>\n",
       "      <td>[Hematology Specialist, Oncology Specialist, I...</td>\n",
       "      <td>100.0</td>\n",
       "      <td>10.0</td>\n",
       "      <td>10.0</td>\n",
       "      <td>8.0</td>\n",
       "      <td>36.0</td>\n",
       "      <td>False</td>\n",
       "    </tr>\n",
       "  </tbody>\n",
       "</table>\n",
       "</div>"
      ],
      "text/plain": [
       "                                                             aboutMe  \\\n",
       "fullname                                                               \n",
       "Sylvia Adams       Dr. Sylvia Adams, MD is an Oncology Specialist...   \n",
       "Morton Coleman     Dr. Morton Coleman, MD is a Hematology Special...   \n",
       "Karen Haglof       Dr. Karen Haglof, MD is a Hematology Specialis...   \n",
       "Michael Grossbard  Dr. Grossbard is the Director of the Hematolog...   \n",
       "Jeffrey Tepler     Dr. Jeffrey Tepler, MD is a Hematology Special...   \n",
       "\n",
       "                         address.line1       address.line2  \\\n",
       "fullname                                                     \n",
       "Sylvia Adams        160 E 34th St Fl 4  New York, NY 10016   \n",
       "Morton Coleman      407 E 70th St Fl 3  New York, NY 10021   \n",
       "Karen Haglof        157 E 32nd St Fl 2  New York, NY 10016   \n",
       "Michael Grossbard  240 E 38th St Fl 19  New York, NY 10016   \n",
       "Jeffrey Tepler      310 E 72nd St Fl 1  New York, NY 10021   \n",
       "\n",
       "                  affiliatedHospitalIDs   age gender  isRecommendedProvider  \\\n",
       "fullname                                                                      \n",
       "Sylvia Adams       [HGST7FF97B36330214]  48.0      F                   True   \n",
       "Morton Coleman     [HGST750A7B36330101]  78.0      M                   True   \n",
       "Karen Haglof       [HGST7FF97B36330214]  62.0      F                   True   \n",
       "Michael Grossbard  [HGST7FF97B36330214]  57.0      M                  False   \n",
       "Jeffrey Tepler     [HGST750A7B36330101]  60.0      M                   True   \n",
       "\n",
       "                   payorCount premiumDisplayOasLabel providerSponsorships  \\\n",
       "fullname                                                                    \n",
       "Sylvia Adams                0                   call                  NaN   \n",
       "Morton Coleman              0                   call                  NaN   \n",
       "Karen Haglof                0                   call                  NaN   \n",
       "Michael Grossbard           0                 static                  NaN   \n",
       "Jeffrey Tepler              0                   call                  NaN   \n",
       "\n",
       "                                                      specialistDesc  \\\n",
       "fullname                                                               \n",
       "Sylvia Adams       [Oncology Specialist, Hematology Specialist, I...   \n",
       "Morton Coleman     [Hematology Specialist, Oncology Specialist, I...   \n",
       "Karen Haglof       [Hematology Specialist, Oncology Specialist, I...   \n",
       "Michael Grossbard  [Oncology Specialist, Hematology Specialist, I...   \n",
       "Jeffrey Tepler     [Hematology Specialist, Oncology Specialist, I...   \n",
       "\n",
       "                   surveyOverallRatingPercent  surveyOverallRatingScore  \\\n",
       "fullname                                                                  \n",
       "Sylvia Adams                             96.0                      10.0   \n",
       "Morton Coleman                           96.0                      10.0   \n",
       "Karen Haglof                             88.0                       9.0   \n",
       "Michael Grossbard                        70.0                       7.0   \n",
       "Jeffrey Tepler                          100.0                      10.0   \n",
       "\n",
       "                   surveyStarRatingScore  surveyUserCount  \\\n",
       "fullname                                                    \n",
       "Sylvia Adams                        10.0             36.0   \n",
       "Morton Coleman                      10.0             16.0   \n",
       "Karen Haglof                         9.0             14.0   \n",
       "Michael Grossbard                    7.0             10.0   \n",
       "Jeffrey Tepler                      10.0              8.0   \n",
       "\n",
       "                   yearsSinceGraduation  isbest  \n",
       "fullname                                         \n",
       "Sylvia Adams                       23.0   False  \n",
       "Morton Coleman                     55.0   False  \n",
       "Karen Haglof                       19.0   False  \n",
       "Michael Grossbard                  32.0    True  \n",
       "Jeffrey Tepler                     36.0   False  "
      ]
     },
     "execution_count": 7,
     "metadata": {},
     "output_type": "execute_result"
    }
   ],
   "source": [
    "df = pd.read_pickle('HealthgradesNymagClean.pkl')\n",
    "df.head()"
   ]
  },
  {
   "cell_type": "code",
   "execution_count": 15,
   "metadata": {},
   "outputs": [
    {
     "data": {
      "text/plain": [
       "<matplotlib.axes._subplots.AxesSubplot at 0x1c1938c5c0>"
      ]
     },
     "execution_count": 15,
     "metadata": {},
     "output_type": "execute_result"
    },
    {
     "data": {
      "image/png": "[encoded data removed]",
      "text/plain": [
       "<matplotlib.figure.Figure at 0x1c1939b128>"
      ]
     },
     "metadata": {},
     "output_type": "display_data"
    }
   ],
   "source": [
    "#Is there a difference in isRecommendedProvider of doctors (Yes)\n",
    "sns.barplot(x = df.isbest, y = df.isRecommendedProvider)"
   ]
  },
  {
   "cell_type": "code",
   "execution_count": 16,
   "metadata": {},
   "outputs": [
    {
     "data": {
      "text/plain": [
       "<matplotlib.axes._subplots.AxesSubplot at 0x1c1927f320>"
      ]
     },
     "execution_count": 16,
     "metadata": {},
     "output_type": "execute_result"
    },
    {
     "data": {
      "image/png": "[encoded data removed]",
      "text/plain": [
       "<matplotlib.figure.Figure at 0x1c1926fa20>"
      ]
     },
     "metadata": {},
     "output_type": "display_data"
    }
   ],
   "source": [
    "#Is there a difference in age of doctors (NO)\n",
    "sns.barplot(x = df.isbest, y = df.age)"
   ]
  },
  {
   "cell_type": "code",
   "execution_count": 17,
   "metadata": {},
   "outputs": [
    {
     "data": {
      "text/plain": [
       "<matplotlib.axes._subplots.AxesSubplot at 0x1c19576438>"
      ]
     },
     "execution_count": 17,
     "metadata": {},
     "output_type": "execute_result"
    },
    {
     "data": {
      "image/png": "[encoded data removed]",
      "text/plain": [
       "<matplotlib.figure.Figure at 0x1c1947f4a8>"
      ]
     },
     "metadata": {},
     "output_type": "display_data"
    }
   ],
   "source": [
    "#Is there a difference in surveyOverallRatingScore of doctors (Yes)\n",
    "sns.barplot(x = df.isbest, y = df.surveyOverallRatingScore)"
   ]
  },
  {
   "cell_type": "code",
   "execution_count": 18,
   "metadata": {},
   "outputs": [
    {
     "data": {
      "text/plain": [
       "<matplotlib.axes._subplots.AxesSubplot at 0x1c1967bf98>"
      ]
     },
     "execution_count": 18,
     "metadata": {},
     "output_type": "execute_result"
    },
    {
     "data": {
      "image/png": "[encoded data removed]",
      "text/plain": [
       "<matplotlib.figure.Figure at 0x1c19543860>"
      ]
     },
     "metadata": {},
     "output_type": "display_data"
    }
   ],
   "source": [
    "#Is there a difference in surveyUserCount of doctors (Yes), seems related to previous\n",
    "sns.barplot(x = df.isbest, y = df.surveyUserCount)"
   ]
  },
  {
   "cell_type": "code",
   "execution_count": 19,
   "metadata": {},
   "outputs": [
    {
     "data": {
      "text/plain": [
       "<matplotlib.axes._subplots.AxesSubplot at 0x1c196885f8>"
      ]
     },
     "execution_count": 19,
     "metadata": {},
     "output_type": "execute_result"
    },
    {
     "data": {
      "image/png": "[encoded data removed]",
      "text/plain": [
       "<matplotlib.figure.Figure at 0x1c191951d0>"
      ]
     },
     "metadata": {},
     "output_type": "display_data"
    }
   ],
   "source": [
    "#is there a difference in surveyStarRatingScore\n",
    "sns.barplot(x = df.isbest, y = df.surveyStarRatingScore)\n",
    "#this is probably correlated to other survey metrics, so should check for correlations"
   ]
  },
  {
   "cell_type": "code",
   "execution_count": 20,
   "metadata": {},
   "outputs": [
    {
     "name": "stdout",
     "output_type": "stream",
     "text": [
      "Number of nan = 0\n"
     ]
    },
    {
     "data": {
      "image/png": "[encoded data removed]",
      "text/plain": [
       "<matplotlib.figure.Figure at 0x1c198dd5c0>"
      ]
     },
     "metadata": {},
     "output_type": "display_data"
    }
   ],
   "source": [
    "#plot overall ratings and count nan\n",
    "countnan = 0\n",
    "ratings = []\n",
    "for rating in df.surveyOverallRatingScore:\n",
    "    if pd.isnull(rating): countnan+=1\n",
    "    else:ratings.append(rating)\n",
    "ratings = pd.Series(ratings, name = 'surveyOverallRatingScore')\n",
    "sns.distplot(ratings)\n",
    "print('Number of nan = '+ str(countnan))\n",
    "#the 0 ratings are probably converted from nan for other columns. This may be useful to include in the fit"
   ]
  },
  {
   "cell_type": "code",
   "execution_count": 21,
   "metadata": {},
   "outputs": [
    {
     "name": "stdout",
     "output_type": "stream",
     "text": [
      "Number of nan = 175\n"
     ]
    },
    {
     "data": {
      "image/png": "[encoded data removed]",
      "text/plain": [
       "<matplotlib.figure.Figure at 0x1c19937f98>"
      ]
     },
     "metadata": {},
     "output_type": "display_data"
    }
   ],
   "source": [
    "#plot overall surveyUserCount and count nan since this showed difference between \"is best\" and not\"\n",
    "countnan = 0\n",
    "ratings = []\n",
    "for rating in df.surveyUserCount:\n",
    "    if pd.isnull(rating): countnan+=1\n",
    "    else:ratings.append(rating)\n",
    "ratings = pd.Series(ratings, name = 'surveyUserCount')\n",
    "sns.distplot(ratings)\n",
    "print('Number of nan = '+ str(countnan))\n",
    "#too many nan will not use"
   ]
  },
  {
   "cell_type": "code",
   "execution_count": 22,
   "metadata": {},
   "outputs": [
    {
     "name": "stdout",
     "output_type": "stream",
     "text": [
      "Number of nan = 0\n"
     ]
    },
    {
     "data": {
      "image/png": "[encoded data removed]",
      "text/plain": [
       "<matplotlib.figure.Figure at 0x1c19b74278>"
      ]
     },
     "metadata": {},
     "output_type": "display_data"
    }
   ],
   "source": [
    "#plot overall surveyStarRatingScore and count nan\n",
    "countnan = 0\n",
    "ratings = []\n",
    "for rating in df.surveyStarRatingScore:\n",
    "    if pd.isnull(rating): countnan+=1\n",
    "    else:ratings.append(rating)\n",
    "ratings = pd.Series(ratings, name = 'surveyStarRatingScore')\n",
    "sns.distplot(ratings)\n",
    "print('Number of nan = '+ str(countnan))\n",
    "#no nan, check for correlations"
   ]
  },
  {
   "cell_type": "code",
   "execution_count": 23,
   "metadata": {},
   "outputs": [
    {
     "ename": "AttributeError",
     "evalue": "'DataFrame' object has no attribute 'Number_pub'",
     "output_type": "error",
     "traceback": [
      "\u001b[0;31m---------------------------------------------------------------------------\u001b[0m",
      "\u001b[0;31mAttributeError\u001b[0m                            Traceback (most recent call last)",
      "\u001b[0;32m<ipython-input-23-36d55dc3e30f>\u001b[0m in \u001b[0;36m<module>\u001b[0;34m()\u001b[0m\n\u001b[1;32m      1\u001b[0m \u001b[0;31m#check number of publications, this is from pubmed and not healthgrades\u001b[0m\u001b[0;34m\u001b[0m\u001b[0;34m\u001b[0m\u001b[0m\n\u001b[0;32m----> 2\u001b[0;31m \u001b[0msns\u001b[0m\u001b[0;34m.\u001b[0m\u001b[0mbarplot\u001b[0m\u001b[0;34m(\u001b[0m\u001b[0mx\u001b[0m \u001b[0;34m=\u001b[0m \u001b[0mdf\u001b[0m\u001b[0;34m.\u001b[0m\u001b[0misbest\u001b[0m\u001b[0;34m,\u001b[0m \u001b[0my\u001b[0m \u001b[0;34m=\u001b[0m \u001b[0mdf\u001b[0m\u001b[0;34m.\u001b[0m\u001b[0mNumber_pub\u001b[0m\u001b[0;34m)\u001b[0m\u001b[0;34m\u001b[0m\u001b[0m\n\u001b[0m",
      "\u001b[0;32m/anaconda3/envs/insight/lib/python3.6/site-packages/pandas/core/generic.py\u001b[0m in \u001b[0;36m__getattr__\u001b[0;34m(self, name)\u001b[0m\n\u001b[1;32m   3612\u001b[0m             \u001b[0;32mif\u001b[0m \u001b[0mname\u001b[0m \u001b[0;32min\u001b[0m \u001b[0mself\u001b[0m\u001b[0;34m.\u001b[0m\u001b[0m_info_axis\u001b[0m\u001b[0;34m:\u001b[0m\u001b[0;34m\u001b[0m\u001b[0m\n\u001b[1;32m   3613\u001b[0m                 \u001b[0;32mreturn\u001b[0m \u001b[0mself\u001b[0m\u001b[0;34m[\u001b[0m\u001b[0mname\u001b[0m\u001b[0;34m]\u001b[0m\u001b[0;34m\u001b[0m\u001b[0m\n\u001b[0;32m-> 3614\u001b[0;31m             \u001b[0;32mreturn\u001b[0m \u001b[0mobject\u001b[0m\u001b[0;34m.\u001b[0m\u001b[0m__getattribute__\u001b[0m\u001b[0;34m(\u001b[0m\u001b[0mself\u001b[0m\u001b[0;34m,\u001b[0m \u001b[0mname\u001b[0m\u001b[0;34m)\u001b[0m\u001b[0;34m\u001b[0m\u001b[0m\n\u001b[0m\u001b[1;32m   3615\u001b[0m \u001b[0;34m\u001b[0m\u001b[0m\n\u001b[1;32m   3616\u001b[0m     \u001b[0;32mdef\u001b[0m \u001b[0m__setattr__\u001b[0m\u001b[0;34m(\u001b[0m\u001b[0mself\u001b[0m\u001b[0;34m,\u001b[0m \u001b[0mname\u001b[0m\u001b[0;34m,\u001b[0m \u001b[0mvalue\u001b[0m\u001b[0;34m)\u001b[0m\u001b[0;34m:\u001b[0m\u001b[0;34m\u001b[0m\u001b[0m\n",
      "\u001b[0;31mAttributeError\u001b[0m: 'DataFrame' object has no attribute 'Number_pub'"
     ]
    }
   ],
   "source": [
    "#check number of publications, this is from pubmed and not healthgrades\n",
    "sns.barplot(x = df.isbest, y = df.Number_pub)"
   ]
  },
  {
   "cell_type": "code",
   "execution_count": 121,
   "metadata": {},
   "outputs": [
    {
     "name": "stdout",
     "output_type": "stream",
     "text": [
      "Number of nan = 0\n"
     ]
    },
    {
     "name": "stderr",
     "output_type": "stream",
     "text": [
      "/anaconda3/envs/insight/lib/python3.6/site-packages/matplotlib/axes/_axes.py:6462: UserWarning: The 'normed' kwarg is deprecated, and has been replaced by the 'density' kwarg.\n",
      "  warnings.warn(\"The 'normed' kwarg is deprecated, and has been \"\n"
     ]
    },
    {
     "data": {
      "image/png": "[encoded data removed]",
      "text/plain": [
       "<Figure size 432x288 with 1 Axes>"
      ]
     },
     "metadata": {},
     "output_type": "display_data"
    }
   ],
   "source": [
    "#check distribution of number of publications\n",
    "countnan = 0\n",
    "ratings = []\n",
    "for rating in df.Number_pub:\n",
    "    if pd.isnull(rating): countnan+=1\n",
    "    else:ratings.append(rating)\n",
    "ratings = pd.Series(ratings, name = 'Number_pub')\n",
    "sns.distplot(ratings)\n",
    "print('Number of nan = '+ str(countnan))\n",
    "#no nan, check for correlations"
   ]
  },
  {
   "cell_type": "code",
   "execution_count": 9,
   "metadata": {},
   "outputs": [
    {
     "data": {
      "text/plain": [
       "<seaborn.axisgrid.FacetGrid at 0x1139a4da0>"
      ]
     },
     "execution_count": 9,
     "metadata": {},
     "output_type": "execute_result"
    },
    {
     "data": {
      "image/png": "[encoded data removed]",
      "text/plain": [
       "<Figure size 476.625x432 with 1 Axes>"
      ]
     },
     "metadata": {},
     "output_type": "display_data"
    }
   ],
   "source": [
    "#check gender\n",
    "sns.factorplot(x=\"isbest\", y=\"Number_pub\",hue = 'gender', data=df, size=6, kind=\"bar\", palette=\"muted\")"
   ]
  },
  {
   "cell_type": "markdown",
   "metadata": {},
   "source": [
    "So far interesting columns seem to be: surveyStarRatingScore, surveyOverallRatingScore, number_pub, isRecommendedProvider"
   ]
  },
  {
   "cell_type": "code",
   "execution_count": 36,
   "metadata": {},
   "outputs": [
    {
     "data": {
      "text/plain": [
       "<matplotlib.axes._subplots.AxesSubplot at 0x1a16231b38>"
      ]
     },
     "execution_count": 36,
     "metadata": {},
     "output_type": "execute_result"
    },
    {
     "data": {
      "image/png": "[encoded data removed]",
      "text/plain": [
       "<Figure size 432x288 with 1 Axes>"
      ]
     },
     "metadata": {},
     "output_type": "display_data"
    }
   ],
   "source": [
    "sns.barplot(x = df.isbest, y = df.yearsSinceGraduation)"
   ]
  },
  {
   "cell_type": "code",
   "execution_count": 37,
   "metadata": {},
   "outputs": [
    {
     "data": {
      "text/plain": [
       "<matplotlib.axes._subplots.AxesSubplot at 0x1a160ba438>"
      ]
     },
     "execution_count": 37,
     "metadata": {},
     "output_type": "execute_result"
    },
    {
     "data": {
      "image/png": "[encoded data removed]",
      "text/plain": [
       "<Figure size 432x288 with 1 Axes>"
      ]
     },
     "metadata": {},
     "output_type": "display_data"
    }
   ],
   "source": [
    "sns.barplot(x = df.isbest, y = df.yearsSinceGraduation/df.age)"
   ]
  },
  {
   "cell_type": "code",
   "execution_count": 69,
   "metadata": {},
   "outputs": [],
   "source": [
    "specialties = []\n",
    "for desc in df.specialistDesc:\n",
    "    for specialty in desc:\n",
    "        if not specialty in specialties:\n",
    "            specialties.append(specialty)"
   ]
  },
  {
   "cell_type": "code",
   "execution_count": 70,
   "metadata": {},
   "outputs": [
    {
     "data": {
      "text/plain": [
       "['Oncology Specialist',\n",
       " 'Hematology Specialist',\n",
       " 'Internist',\n",
       " 'Emergency Medicine Specialist',\n",
       " 'Geriatrician',\n",
       " 'Dermatologist',\n",
       " 'Hepatology Specialist',\n",
       " 'Gynecologic Oncology Specialist',\n",
       " 'Hospice & Palliative Medicine Specialist',\n",
       " 'Diagnostic Radiologist',\n",
       " 'Nephrology Specialist',\n",
       " 'Other Provider',\n",
       " 'Radiation Oncology Specialist',\n",
       " 'Radiologist',\n",
       " 'Infectious Disease Specialist',\n",
       " 'Blood Banking & Transfusion Medicine Specialist',\n",
       " 'Allergy & Immunology Specialist',\n",
       " 'Rheumatology Specialist']"
      ]
     },
     "execution_count": 70,
     "metadata": {},
     "output_type": "execute_result"
    }
   ],
   "source": [
    "specialties"
   ]
  },
  {
   "cell_type": "markdown",
   "metadata": {},
   "source": [
    "So far interesting columns seem to be: surveyStarRatingScore, surveyOverallRatingScore, number_pub, isRecommendedProvider"
   ]
  },
  {
   "cell_type": "code",
   "execution_count": 149,
   "metadata": {},
   "outputs": [
    {
     "data": {
      "text/plain": [
       "['aboutMe',\n",
       " 'address.line1',\n",
       " 'address.line2',\n",
       " 'affiliatedHospitalIDs',\n",
       " 'age',\n",
       " 'gender',\n",
       " 'payorCount',\n",
       " 'premiumDisplayOasLabel',\n",
       " 'providerSponsorships',\n",
       " 'specialistDesc',\n",
       " 'surveyOverallRatingPercent',\n",
       " 'surveyUserCount',\n",
       " 'yearsSinceGraduation',\n",
       " 'fullname']"
      ]
     },
     "execution_count": 149,
     "metadata": {},
     "output_type": "execute_result"
    }
   ],
   "source": [
    "#create new df with only relevant columns. check for correlations\n",
    "columnnames = []\n",
    "for columnname in df: columnnames.append(columnname)\n",
    "del(columnnames[-2:])\n",
    "del(columnnames[-5:-3])\n",
    "del(columnnames[6])\n",
    "columnnames"
   ]
  },
  {
   "cell_type": "code",
   "execution_count": 150,
   "metadata": {},
   "outputs": [],
   "source": [
    "df_tofit = df.drop(columns = columnnames)"
   ]
  },
  {
   "cell_type": "code",
   "execution_count": 151,
   "metadata": {},
   "outputs": [
    {
     "data": {
      "text/html": [
       "<div>\n",
       "<style scoped>\n",
       "    .dataframe tbody tr th:only-of-type {\n",
       "        vertical-align: middle;\n",
       "    }\n",
       "\n",
       "    .dataframe tbody tr th {\n",
       "        vertical-align: top;\n",
       "    }\n",
       "\n",
       "    .dataframe thead th {\n",
       "        text-align: right;\n",
       "    }\n",
       "</style>\n",
       "<table border=\"1\" class=\"dataframe\">\n",
       "  <thead>\n",
       "    <tr style=\"text-align: right;\">\n",
       "      <th></th>\n",
       "      <th>isRecommendedProvider</th>\n",
       "      <th>surveyOverallRatingScore</th>\n",
       "      <th>surveyStarRatingScore</th>\n",
       "      <th>isbest</th>\n",
       "      <th>Number_pub</th>\n",
       "    </tr>\n",
       "    <tr>\n",
       "      <th>displayName</th>\n",
       "      <th></th>\n",
       "      <th></th>\n",
       "      <th></th>\n",
       "      <th></th>\n",
       "      <th></th>\n",
       "    </tr>\n",
       "  </thead>\n",
       "  <tbody>\n",
       "    <tr>\n",
       "      <th>Dr. Sylvia Adams, MD</th>\n",
       "      <td>True</td>\n",
       "      <td>10.0</td>\n",
       "      <td>10.0</td>\n",
       "      <td>False</td>\n",
       "      <td>36</td>\n",
       "    </tr>\n",
       "    <tr>\n",
       "      <th>Dr. Morton Coleman, MD</th>\n",
       "      <td>True</td>\n",
       "      <td>10.0</td>\n",
       "      <td>10.0</td>\n",
       "      <td>False</td>\n",
       "      <td>90</td>\n",
       "    </tr>\n",
       "    <tr>\n",
       "      <th>Dr. Karen Haglof, MD</th>\n",
       "      <td>True</td>\n",
       "      <td>9.0</td>\n",
       "      <td>9.0</td>\n",
       "      <td>False</td>\n",
       "      <td>1</td>\n",
       "    </tr>\n",
       "    <tr>\n",
       "      <th>Dr. Michael Grossbard, MD</th>\n",
       "      <td>False</td>\n",
       "      <td>7.0</td>\n",
       "      <td>7.0</td>\n",
       "      <td>True</td>\n",
       "      <td>39</td>\n",
       "    </tr>\n",
       "    <tr>\n",
       "      <th>Dr. Jeffrey Tepler, MD</th>\n",
       "      <td>True</td>\n",
       "      <td>10.0</td>\n",
       "      <td>10.0</td>\n",
       "      <td>False</td>\n",
       "      <td>1</td>\n",
       "    </tr>\n",
       "    <tr>\n",
       "      <th>Dr. Francisco Esteva, MD</th>\n",
       "      <td>True</td>\n",
       "      <td>10.0</td>\n",
       "      <td>10.0</td>\n",
       "      <td>False</td>\n",
       "      <td>145</td>\n",
       "    </tr>\n",
       "    <tr>\n",
       "      <th>Dr. Cynthia Leichman, MD</th>\n",
       "      <td>True</td>\n",
       "      <td>10.0</td>\n",
       "      <td>10.0</td>\n",
       "      <td>False</td>\n",
       "      <td>17</td>\n",
       "    </tr>\n",
       "    <tr>\n",
       "      <th>Dr. Vicky Makker, MD</th>\n",
       "      <td>True</td>\n",
       "      <td>10.0</td>\n",
       "      <td>10.0</td>\n",
       "      <td>False</td>\n",
       "      <td>20</td>\n",
       "    </tr>\n",
       "    <tr>\n",
       "      <th>Dr. Daniel Cho, MD</th>\n",
       "      <td>True</td>\n",
       "      <td>10.0</td>\n",
       "      <td>10.0</td>\n",
       "      <td>False</td>\n",
       "      <td>34</td>\n",
       "    </tr>\n",
       "    <tr>\n",
       "      <th>Dr. Alec Goldenberg, MD</th>\n",
       "      <td>True</td>\n",
       "      <td>8.0</td>\n",
       "      <td>8.0</td>\n",
       "      <td>False</td>\n",
       "      <td>7</td>\n",
       "    </tr>\n",
       "    <tr>\n",
       "      <th>Dr. Julia Smith, MD</th>\n",
       "      <td>True</td>\n",
       "      <td>10.0</td>\n",
       "      <td>10.0</td>\n",
       "      <td>True</td>\n",
       "      <td>13</td>\n",
       "    </tr>\n",
       "    <tr>\n",
       "      <th>Dr. Theresa Ryan, MD</th>\n",
       "      <td>True</td>\n",
       "      <td>10.0</td>\n",
       "      <td>10.0</td>\n",
       "      <td>False</td>\n",
       "      <td>11</td>\n",
       "    </tr>\n",
       "    <tr>\n",
       "      <th>Dr. Niculae Ciobanu, MD</th>\n",
       "      <td>True</td>\n",
       "      <td>10.0</td>\n",
       "      <td>10.0</td>\n",
       "      <td>False</td>\n",
       "      <td>2</td>\n",
       "    </tr>\n",
       "    <tr>\n",
       "      <th>Dr. Alan Dosik, MD</th>\n",
       "      <td>True</td>\n",
       "      <td>10.0</td>\n",
       "      <td>10.0</td>\n",
       "      <td>False</td>\n",
       "      <td>1</td>\n",
       "    </tr>\n",
       "    <tr>\n",
       "      <th>Dr. Kristy Richards, MD</th>\n",
       "      <td>True</td>\n",
       "      <td>10.0</td>\n",
       "      <td>10.0</td>\n",
       "      <td>False</td>\n",
       "      <td>63</td>\n",
       "    </tr>\n",
       "    <tr>\n",
       "      <th>Dr. Robert Udesky, MD</th>\n",
       "      <td>True</td>\n",
       "      <td>9.0</td>\n",
       "      <td>9.0</td>\n",
       "      <td>False</td>\n",
       "      <td>0</td>\n",
       "    </tr>\n",
       "    <tr>\n",
       "      <th>Dr. Perry Cook, MD</th>\n",
       "      <td>True</td>\n",
       "      <td>9.0</td>\n",
       "      <td>9.0</td>\n",
       "      <td>False</td>\n",
       "      <td>3</td>\n",
       "    </tr>\n",
       "    <tr>\n",
       "      <th>Dr. Richard Silver, MD</th>\n",
       "      <td>True</td>\n",
       "      <td>10.0</td>\n",
       "      <td>10.0</td>\n",
       "      <td>False</td>\n",
       "      <td>57</td>\n",
       "    </tr>\n",
       "    <tr>\n",
       "      <th>Dr. Zujun Li, MD</th>\n",
       "      <td>False</td>\n",
       "      <td>7.0</td>\n",
       "      <td>7.0</td>\n",
       "      <td>False</td>\n",
       "      <td>12</td>\n",
       "    </tr>\n",
       "    <tr>\n",
       "      <th>Dr. Martin Tallman, MD</th>\n",
       "      <td>True</td>\n",
       "      <td>10.0</td>\n",
       "      <td>10.0</td>\n",
       "      <td>False</td>\n",
       "      <td>320</td>\n",
       "    </tr>\n",
       "    <tr>\n",
       "      <th>Dr. Bruce Raphael, MD</th>\n",
       "      <td>True</td>\n",
       "      <td>8.0</td>\n",
       "      <td>8.0</td>\n",
       "      <td>False</td>\n",
       "      <td>4</td>\n",
       "    </tr>\n",
       "    <tr>\n",
       "      <th>Dr. William Grace, MD</th>\n",
       "      <td>False</td>\n",
       "      <td>7.0</td>\n",
       "      <td>7.0</td>\n",
       "      <td>False</td>\n",
       "      <td>1</td>\n",
       "    </tr>\n",
       "    <tr>\n",
       "      <th>Dr. Arjun Balar, MD</th>\n",
       "      <td>True</td>\n",
       "      <td>10.0</td>\n",
       "      <td>10.0</td>\n",
       "      <td>False</td>\n",
       "      <td>20</td>\n",
       "    </tr>\n",
       "    <tr>\n",
       "      <th>Dr. Daniel Becker, MD</th>\n",
       "      <td>True</td>\n",
       "      <td>10.0</td>\n",
       "      <td>10.0</td>\n",
       "      <td>False</td>\n",
       "      <td>24</td>\n",
       "    </tr>\n",
       "    <tr>\n",
       "      <th>Dr. Adolfo Badillo, MD</th>\n",
       "      <td>True</td>\n",
       "      <td>10.0</td>\n",
       "      <td>10.0</td>\n",
       "      <td>False</td>\n",
       "      <td>0</td>\n",
       "    </tr>\n",
       "    <tr>\n",
       "      <th>Dr. Anna Ferrari, MD</th>\n",
       "      <td>True</td>\n",
       "      <td>10.0</td>\n",
       "      <td>10.0</td>\n",
       "      <td>False</td>\n",
       "      <td>32</td>\n",
       "    </tr>\n",
       "    <tr>\n",
       "      <th>Dr. Marleen Meyers, MD</th>\n",
       "      <td>False</td>\n",
       "      <td>6.0</td>\n",
       "      <td>6.0</td>\n",
       "      <td>False</td>\n",
       "      <td>0</td>\n",
       "    </tr>\n",
       "    <tr>\n",
       "      <th>Dr. Bobby Liaw, MD</th>\n",
       "      <td>True</td>\n",
       "      <td>10.0</td>\n",
       "      <td>10.0</td>\n",
       "      <td>False</td>\n",
       "      <td>7</td>\n",
       "    </tr>\n",
       "    <tr>\n",
       "      <th>Dr. Yashar Hirshaut, MD</th>\n",
       "      <td>True</td>\n",
       "      <td>8.0</td>\n",
       "      <td>8.0</td>\n",
       "      <td>False</td>\n",
       "      <td>0</td>\n",
       "    </tr>\n",
       "    <tr>\n",
       "      <th>Dr. Phyllis Hyde, MD</th>\n",
       "      <td>True</td>\n",
       "      <td>10.0</td>\n",
       "      <td>10.0</td>\n",
       "      <td>False</td>\n",
       "      <td>2</td>\n",
       "    </tr>\n",
       "    <tr>\n",
       "      <th>...</th>\n",
       "      <td>...</td>\n",
       "      <td>...</td>\n",
       "      <td>...</td>\n",
       "      <td>...</td>\n",
       "      <td>...</td>\n",
       "    </tr>\n",
       "    <tr>\n",
       "      <th>Dr. Craig Thompson, MD</th>\n",
       "      <td>False</td>\n",
       "      <td>0.0</td>\n",
       "      <td>0.0</td>\n",
       "      <td>False</td>\n",
       "      <td>93</td>\n",
       "    </tr>\n",
       "    <tr>\n",
       "      <th>Dr. Michael Cheng, MD</th>\n",
       "      <td>False</td>\n",
       "      <td>0.0</td>\n",
       "      <td>0.0</td>\n",
       "      <td>False</td>\n",
       "      <td>8</td>\n",
       "    </tr>\n",
       "    <tr>\n",
       "      <th>Dr. Kapil Dhingra, MD</th>\n",
       "      <td>False</td>\n",
       "      <td>0.0</td>\n",
       "      <td>0.0</td>\n",
       "      <td>False</td>\n",
       "      <td>1</td>\n",
       "    </tr>\n",
       "    <tr>\n",
       "      <th>Dr. Neal Rosen, MD</th>\n",
       "      <td>False</td>\n",
       "      <td>0.0</td>\n",
       "      <td>0.0</td>\n",
       "      <td>False</td>\n",
       "      <td>120</td>\n",
       "    </tr>\n",
       "    <tr>\n",
       "      <th>Min Teo, MB</th>\n",
       "      <td>False</td>\n",
       "      <td>0.0</td>\n",
       "      <td>0.0</td>\n",
       "      <td>False</td>\n",
       "      <td>9</td>\n",
       "    </tr>\n",
       "    <tr>\n",
       "      <th>Dr. Robin Manson, MD</th>\n",
       "      <td>False</td>\n",
       "      <td>0.0</td>\n",
       "      <td>0.0</td>\n",
       "      <td>False</td>\n",
       "      <td>0</td>\n",
       "    </tr>\n",
       "    <tr>\n",
       "      <th>Dr. Fernando Santini, MD</th>\n",
       "      <td>False</td>\n",
       "      <td>0.0</td>\n",
       "      <td>0.0</td>\n",
       "      <td>False</td>\n",
       "      <td>3</td>\n",
       "    </tr>\n",
       "    <tr>\n",
       "      <th>Dr. Philip Livingston, MD</th>\n",
       "      <td>False</td>\n",
       "      <td>0.0</td>\n",
       "      <td>0.0</td>\n",
       "      <td>False</td>\n",
       "      <td>40</td>\n",
       "    </tr>\n",
       "    <tr>\n",
       "      <th>Dr. Eric Jaffe, MD</th>\n",
       "      <td>False</td>\n",
       "      <td>0.0</td>\n",
       "      <td>0.0</td>\n",
       "      <td>False</td>\n",
       "      <td>3</td>\n",
       "    </tr>\n",
       "    <tr>\n",
       "      <th>Praddep Chandra, MB</th>\n",
       "      <td>False</td>\n",
       "      <td>0.0</td>\n",
       "      <td>0.0</td>\n",
       "      <td>False</td>\n",
       "      <td>500</td>\n",
       "    </tr>\n",
       "    <tr>\n",
       "      <th>Dr. Shahin Rafii, MD</th>\n",
       "      <td>False</td>\n",
       "      <td>0.0</td>\n",
       "      <td>0.0</td>\n",
       "      <td>False</td>\n",
       "      <td>61</td>\n",
       "    </tr>\n",
       "    <tr>\n",
       "      <th>Dr. Carl Nathan, MD</th>\n",
       "      <td>False</td>\n",
       "      <td>0.0</td>\n",
       "      <td>0.0</td>\n",
       "      <td>False</td>\n",
       "      <td>1</td>\n",
       "    </tr>\n",
       "    <tr>\n",
       "      <th>Dr. Elaine Schattner, MD</th>\n",
       "      <td>False</td>\n",
       "      <td>0.0</td>\n",
       "      <td>0.0</td>\n",
       "      <td>False</td>\n",
       "      <td>7</td>\n",
       "    </tr>\n",
       "    <tr>\n",
       "      <th>Dr. Marco Seandel, MD</th>\n",
       "      <td>False</td>\n",
       "      <td>0.0</td>\n",
       "      <td>0.0</td>\n",
       "      <td>False</td>\n",
       "      <td>7</td>\n",
       "    </tr>\n",
       "    <tr>\n",
       "      <th>Dr. Ted Szatrowski, MD</th>\n",
       "      <td>False</td>\n",
       "      <td>0.0</td>\n",
       "      <td>0.0</td>\n",
       "      <td>False</td>\n",
       "      <td>5</td>\n",
       "    </tr>\n",
       "    <tr>\n",
       "      <th>Dr. Barbara Hempstead, MD</th>\n",
       "      <td>False</td>\n",
       "      <td>0.0</td>\n",
       "      <td>0.0</td>\n",
       "      <td>False</td>\n",
       "      <td>7</td>\n",
       "    </tr>\n",
       "    <tr>\n",
       "      <th>Dr. Ewelina Morawa, MD</th>\n",
       "      <td>False</td>\n",
       "      <td>0.0</td>\n",
       "      <td>0.0</td>\n",
       "      <td>False</td>\n",
       "      <td>4</td>\n",
       "    </tr>\n",
       "    <tr>\n",
       "      <th>David Gallagher, MB</th>\n",
       "      <td>False</td>\n",
       "      <td>0.0</td>\n",
       "      <td>0.0</td>\n",
       "      <td>False</td>\n",
       "      <td>34</td>\n",
       "    </tr>\n",
       "    <tr>\n",
       "      <th>Dr. Ralph Nachman, MD</th>\n",
       "      <td>False</td>\n",
       "      <td>0.0</td>\n",
       "      <td>0.0</td>\n",
       "      <td>False</td>\n",
       "      <td>1</td>\n",
       "    </tr>\n",
       "    <tr>\n",
       "      <th>Jessy Ryan, NP</th>\n",
       "      <td>False</td>\n",
       "      <td>0.0</td>\n",
       "      <td>0.0</td>\n",
       "      <td>False</td>\n",
       "      <td>0</td>\n",
       "    </tr>\n",
       "    <tr>\n",
       "      <th>Sandra Allen-Bard, NP</th>\n",
       "      <td>False</td>\n",
       "      <td>0.0</td>\n",
       "      <td>0.0</td>\n",
       "      <td>False</td>\n",
       "      <td>3</td>\n",
       "    </tr>\n",
       "    <tr>\n",
       "      <th>Dr. Himisha Beltran, MD</th>\n",
       "      <td>False</td>\n",
       "      <td>0.0</td>\n",
       "      <td>0.0</td>\n",
       "      <td>False</td>\n",
       "      <td>55</td>\n",
       "    </tr>\n",
       "    <tr>\n",
       "      <th>Dr. Adrienne Phillips, MD</th>\n",
       "      <td>False</td>\n",
       "      <td>0.0</td>\n",
       "      <td>0.0</td>\n",
       "      <td>False</td>\n",
       "      <td>13</td>\n",
       "    </tr>\n",
       "    <tr>\n",
       "      <th>Dr. Yariv Houvras, MD</th>\n",
       "      <td>False</td>\n",
       "      <td>0.0</td>\n",
       "      <td>0.0</td>\n",
       "      <td>False</td>\n",
       "      <td>14</td>\n",
       "    </tr>\n",
       "    <tr>\n",
       "      <th>Dr. Jonas Goldstone, MD</th>\n",
       "      <td>False</td>\n",
       "      <td>0.0</td>\n",
       "      <td>0.0</td>\n",
       "      <td>False</td>\n",
       "      <td>0</td>\n",
       "    </tr>\n",
       "    <tr>\n",
       "      <th>Dr. Michael Tirgan, MD</th>\n",
       "      <td>False</td>\n",
       "      <td>0.0</td>\n",
       "      <td>0.0</td>\n",
       "      <td>False</td>\n",
       "      <td>0</td>\n",
       "    </tr>\n",
       "    <tr>\n",
       "      <th>Khalid Rehman, MB</th>\n",
       "      <td>False</td>\n",
       "      <td>0.0</td>\n",
       "      <td>0.0</td>\n",
       "      <td>False</td>\n",
       "      <td>2</td>\n",
       "    </tr>\n",
       "    <tr>\n",
       "      <th>Dr. Anthony Riario, MD</th>\n",
       "      <td>False</td>\n",
       "      <td>0.0</td>\n",
       "      <td>0.0</td>\n",
       "      <td>False</td>\n",
       "      <td>0</td>\n",
       "    </tr>\n",
       "    <tr>\n",
       "      <th>Dr. George Zacharia, MD</th>\n",
       "      <td>False</td>\n",
       "      <td>0.0</td>\n",
       "      <td>0.0</td>\n",
       "      <td>False</td>\n",
       "      <td>2</td>\n",
       "    </tr>\n",
       "    <tr>\n",
       "      <th>Dr. Robert Glassman, MD</th>\n",
       "      <td>False</td>\n",
       "      <td>0.0</td>\n",
       "      <td>0.0</td>\n",
       "      <td>False</td>\n",
       "      <td>4</td>\n",
       "    </tr>\n",
       "  </tbody>\n",
       "</table>\n",
       "<p>389 rows × 5 columns</p>\n",
       "</div>"
      ],
      "text/plain": [
       "                           isRecommendedProvider  surveyOverallRatingScore  \\\n",
       "displayName                                                                  \n",
       "Dr. Sylvia Adams, MD                        True                      10.0   \n",
       "Dr. Morton Coleman, MD                      True                      10.0   \n",
       "Dr. Karen Haglof, MD                        True                       9.0   \n",
       "Dr. Michael Grossbard, MD                  False                       7.0   \n",
       "Dr. Jeffrey Tepler, MD                      True                      10.0   \n",
       "Dr. Francisco Esteva, MD                    True                      10.0   \n",
       "Dr. Cynthia Leichman, MD                    True                      10.0   \n",
       "Dr. Vicky Makker, MD                        True                      10.0   \n",
       "Dr. Daniel Cho, MD                          True                      10.0   \n",
       "Dr. Alec Goldenberg, MD                     True                       8.0   \n",
       "Dr. Julia Smith, MD                         True                      10.0   \n",
       "Dr. Theresa Ryan, MD                        True                      10.0   \n",
       "Dr. Niculae Ciobanu, MD                     True                      10.0   \n",
       "Dr. Alan Dosik, MD                          True                      10.0   \n",
       "Dr. Kristy Richards, MD                     True                      10.0   \n",
       "Dr. Robert Udesky, MD                       True                       9.0   \n",
       "Dr. Perry Cook, MD                          True                       9.0   \n",
       "Dr. Richard Silver, MD                      True                      10.0   \n",
       "Dr. Zujun Li, MD                           False                       7.0   \n",
       "Dr. Martin Tallman, MD                      True                      10.0   \n",
       "Dr. Bruce Raphael, MD                       True                       8.0   \n",
       "Dr. William Grace, MD                      False                       7.0   \n",
       "Dr. Arjun Balar, MD                         True                      10.0   \n",
       "Dr. Daniel Becker, MD                       True                      10.0   \n",
       "Dr. Adolfo Badillo, MD                      True                      10.0   \n",
       "Dr. Anna Ferrari, MD                        True                      10.0   \n",
       "Dr. Marleen Meyers, MD                     False                       6.0   \n",
       "Dr. Bobby Liaw, MD                          True                      10.0   \n",
       "Dr. Yashar Hirshaut, MD                     True                       8.0   \n",
       "Dr. Phyllis Hyde, MD                        True                      10.0   \n",
       "...                                          ...                       ...   \n",
       "Dr. Craig Thompson, MD                     False                       0.0   \n",
       "Dr. Michael Cheng, MD                      False                       0.0   \n",
       "Dr. Kapil Dhingra, MD                      False                       0.0   \n",
       "Dr. Neal Rosen, MD                         False                       0.0   \n",
       "Min Teo, MB                                False                       0.0   \n",
       "Dr. Robin Manson, MD                       False                       0.0   \n",
       "Dr. Fernando Santini, MD                   False                       0.0   \n",
       "Dr. Philip Livingston, MD                  False                       0.0   \n",
       "Dr. Eric Jaffe, MD                         False                       0.0   \n",
       "Praddep Chandra, MB                        False                       0.0   \n",
       "Dr. Shahin Rafii, MD                       False                       0.0   \n",
       "Dr. Carl Nathan, MD                        False                       0.0   \n",
       "Dr. Elaine Schattner, MD                   False                       0.0   \n",
       "Dr. Marco Seandel, MD                      False                       0.0   \n",
       "Dr. Ted Szatrowski, MD                     False                       0.0   \n",
       "Dr. Barbara Hempstead, MD                  False                       0.0   \n",
       "Dr. Ewelina Morawa, MD                     False                       0.0   \n",
       "David Gallagher, MB                        False                       0.0   \n",
       "Dr. Ralph Nachman, MD                      False                       0.0   \n",
       "Jessy Ryan, NP                             False                       0.0   \n",
       "Sandra Allen-Bard, NP                      False                       0.0   \n",
       "Dr. Himisha Beltran, MD                    False                       0.0   \n",
       "Dr. Adrienne Phillips, MD                  False                       0.0   \n",
       "Dr. Yariv Houvras, MD                      False                       0.0   \n",
       "Dr. Jonas Goldstone, MD                    False                       0.0   \n",
       "Dr. Michael Tirgan, MD                     False                       0.0   \n",
       "Khalid Rehman, MB                          False                       0.0   \n",
       "Dr. Anthony Riario, MD                     False                       0.0   \n",
       "Dr. George Zacharia, MD                    False                       0.0   \n",
       "Dr. Robert Glassman, MD                    False                       0.0   \n",
       "\n",
       "                           surveyStarRatingScore  isbest  Number_pub  \n",
       "displayName                                                           \n",
       "Dr. Sylvia Adams, MD                        10.0   False          36  \n",
       "Dr. Morton Coleman, MD                      10.0   False          90  \n",
       "Dr. Karen Haglof, MD                         9.0   False           1  \n",
       "Dr. Michael Grossbard, MD                    7.0    True          39  \n",
       "Dr. Jeffrey Tepler, MD                      10.0   False           1  \n",
       "Dr. Francisco Esteva, MD                    10.0   False         145  \n",
       "Dr. Cynthia Leichman, MD                    10.0   False          17  \n",
       "Dr. Vicky Makker, MD                        10.0   False          20  \n",
       "Dr. Daniel Cho, MD                          10.0   False          34  \n",
       "Dr. Alec Goldenberg, MD                      8.0   False           7  \n",
       "Dr. Julia Smith, MD                         10.0    True          13  \n",
       "Dr. Theresa Ryan, MD                        10.0   False          11  \n",
       "Dr. Niculae Ciobanu, MD                     10.0   False           2  \n",
       "Dr. Alan Dosik, MD                          10.0   False           1  \n",
       "Dr. Kristy Richards, MD                     10.0   False          63  \n",
       "Dr. Robert Udesky, MD                        9.0   False           0  \n",
       "Dr. Perry Cook, MD                           9.0   False           3  \n",
       "Dr. Richard Silver, MD                      10.0   False          57  \n",
       "Dr. Zujun Li, MD                             7.0   False          12  \n",
       "Dr. Martin Tallman, MD                      10.0   False         320  \n",
       "Dr. Bruce Raphael, MD                        8.0   False           4  \n",
       "Dr. William Grace, MD                        7.0   False           1  \n",
       "Dr. Arjun Balar, MD                         10.0   False          20  \n",
       "Dr. Daniel Becker, MD                       10.0   False          24  \n",
       "Dr. Adolfo Badillo, MD                      10.0   False           0  \n",
       "Dr. Anna Ferrari, MD                        10.0   False          32  \n",
       "Dr. Marleen Meyers, MD                       6.0   False           0  \n",
       "Dr. Bobby Liaw, MD                          10.0   False           7  \n",
       "Dr. Yashar Hirshaut, MD                      8.0   False           0  \n",
       "Dr. Phyllis Hyde, MD                        10.0   False           2  \n",
       "...                                          ...     ...         ...  \n",
       "Dr. Craig Thompson, MD                       0.0   False          93  \n",
       "Dr. Michael Cheng, MD                        0.0   False           8  \n",
       "Dr. Kapil Dhingra, MD                        0.0   False           1  \n",
       "Dr. Neal Rosen, MD                           0.0   False         120  \n",
       "Min Teo, MB                                  0.0   False           9  \n",
       "Dr. Robin Manson, MD                         0.0   False           0  \n",
       "Dr. Fernando Santini, MD                     0.0   False           3  \n",
       "Dr. Philip Livingston, MD                    0.0   False          40  \n",
       "Dr. Eric Jaffe, MD                           0.0   False           3  \n",
       "Praddep Chandra, MB                          0.0   False         500  \n",
       "Dr. Shahin Rafii, MD                         0.0   False          61  \n",
       "Dr. Carl Nathan, MD                          0.0   False           1  \n",
       "Dr. Elaine Schattner, MD                     0.0   False           7  \n",
       "Dr. Marco Seandel, MD                        0.0   False           7  \n",
       "Dr. Ted Szatrowski, MD                       0.0   False           5  \n",
       "Dr. Barbara Hempstead, MD                    0.0   False           7  \n",
       "Dr. Ewelina Morawa, MD                       0.0   False           4  \n",
       "David Gallagher, MB                          0.0   False          34  \n",
       "Dr. Ralph Nachman, MD                        0.0   False           1  \n",
       "Jessy Ryan, NP                               0.0   False           0  \n",
       "Sandra Allen-Bard, NP                        0.0   False           3  \n",
       "Dr. Himisha Beltran, MD                      0.0   False          55  \n",
       "Dr. Adrienne Phillips, MD                    0.0   False          13  \n",
       "Dr. Yariv Houvras, MD                        0.0   False          14  \n",
       "Dr. Jonas Goldstone, MD                      0.0   False           0  \n",
       "Dr. Michael Tirgan, MD                       0.0   False           0  \n",
       "Khalid Rehman, MB                            0.0   False           2  \n",
       "Dr. Anthony Riario, MD                       0.0   False           0  \n",
       "Dr. George Zacharia, MD                      0.0   False           2  \n",
       "Dr. Robert Glassman, MD                      0.0   False           4  \n",
       "\n",
       "[389 rows x 5 columns]"
      ]
     },
     "execution_count": 151,
     "metadata": {},
     "output_type": "execute_result"
    }
   ],
   "source": [
    "df_tofit\n",
    "#Y/output is isbest"
   ]
  },
  {
   "cell_type": "code",
   "execution_count": 152,
   "metadata": {},
   "outputs": [],
   "source": [
    "df_toplot = df_tofit.drop(columns = ['isbest','isRecommendedProvider'])"
   ]
  },
  {
   "cell_type": "code",
   "execution_count": 153,
   "metadata": {},
   "outputs": [
    {
     "name": "stderr",
     "output_type": "stream",
     "text": [
      "/anaconda3/envs/insight/lib/python3.6/site-packages/ipykernel/__main__.py:1: FutureWarning: pandas.scatter_matrix is deprecated. Use pandas.plotting.scatter_matrix instead\n",
      "  if __name__ == '__main__':\n"
     ]
    },
    {
     "data": {
      "image/png": "[encoded data removed]",
      "text/plain": [
       "<Figure size 720x720 with 9 Axes>"
      ]
     },
     "metadata": {},
     "output_type": "display_data"
    }
   ],
   "source": [
    "#check for correlations\n",
    "a = pd.scatter_matrix(df_toplot,alpha=0.05,figsize=(10,10), diagonal='hist')"
   ]
  },
  {
   "cell_type": "markdown",
   "metadata": {},
   "source": [
    "As expected OverallRatingScore and StarRatingScore are correlated, drop one of these and fit a logistic regression"
   ]
  },
  {
   "cell_type": "code",
   "execution_count": null,
   "metadata": {},
   "outputs": [],
   "source": []
  }
 ],
 "metadata": {
  "kernelspec": {
   "display_name": "Python [conda env:insight]",
   "language": "python",
   "name": "conda-env-insight-py"
  },
  "language_info": {
   "codemirror_mode": {
    "name": "ipython",
    "version": 3
   },
   "file_extension": ".py",
   "mimetype": "text/x-python",
   "name": "python",
   "nbconvert_exporter": "python",
   "pygments_lexer": "ipython3",
   "version": "3.6.5"
  }
 },
 "nbformat": 4,
 "nbformat_minor": 2
}

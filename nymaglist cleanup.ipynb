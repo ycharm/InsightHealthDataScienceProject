{
 "cells": [
  {
   "cell_type": "markdown",
   "metadata": {},
   "source": [
    "Write a program to import the best medical oncologists in NYC from NYMag and a list of all medical oncologists in NYC from Healthgrades"
   ]
  },
  {
   "cell_type": "code",
   "execution_count": 2,
   "metadata": {},
   "outputs": [],
   "source": [
    "#import all required packages\n",
    "from bs4 import BeautifulSoup\n",
    "import requests\n",
    "import pandas as pd\n",
    "import string"
   ]
  },
  {
   "cell_type": "markdown",
   "metadata": {},
   "source": [
    "Use NYmag link to get list of first 40 doctors"
   ]
  },
  {
   "cell_type": "code",
   "execution_count": 3,
   "metadata": {},
   "outputs": [
    {
     "name": "stdout",
     "output_type": "stream",
     "text": [
      "[<b>Dr. Paula Klein (Medical Oncology)</b>, <b>Dr. Maura N. Dickler (Medical Oncology)</b>, <b>Dr. Abraham Chachoua (Medical Oncology)</b>, <b>Dr. Michael L. Grossbard (Medical Oncology)</b>, <b>Dr. Anna C. Pavlick (Medical Oncology)</b>, <b>Dr. Julia A. Smith (Medical Oncology)</b>, <b>Dr. Peter S. Kozuch (Medical Oncology)</b>, <b>Dr. Paul B. Chapman (Medical Oncology)</b>, <b>Dr. Nancy E. Kemeny (Medical Oncology)</b>, <b>Dr. Mark G. Kris (Medical Oncology)</b>, <b>Dr. Eileen M. O'Reilly (Medical Oncology)</b>, <b>Dr. Diane Reidy-Lagunes (Medical Oncology)</b>, <b>Dr. William D. Tap (Medical Oncology)</b>, <b>Dr. Leonard B. Saltz (Medical Oncology)</b>, <b>Dr. Gabriel A. Sara (Medical Oncology)</b>, <b>Dr. Jedd D. Wolchok (Medical Oncology)</b>, <b>Dr. Carol A. Aghajanian (Medical Oncology)</b>, <b>Dr. Dean F. Bajorin (Medical Oncology)</b>, <b>Dr. Darren R. Feldman (Medical Oncology)</b>, <b>Dr. Michael J. Morris (Medical Oncology)</b>, <b>Dr. Larry Norton (Medical Oncology)</b>, <b>Dr. David G. Pfister (Medical Oncology)</b>, <b>Dr. Mark Emerson Robson (Medical Oncology)</b>, <b>Dr. Paul J. Sabbatini (Medical Oncology)</b>, <b>Dr. Howard I. Scher (Medical Oncology)</b>, <b>Dr. Linda T. Vahdat (Medical Oncology)</b>, <b>Dr. Andrew D. Zelenetz (Medical Oncology)</b>, <b>Dr. Jose T. Baselga (Medical Oncology)</b>, <b>Dr. Allyson J. Ocean (Medical Oncology)</b>, <b>Dr. Kenneth Offit (Medical Oncology)</b>, <b>Dr. Janice L. Gabrilove (Medical Oncology)</b>, <b>Dr. Gregory J. Riely (Medical Oncology)</b>, <b>Dr. Brenda D. Panzera (Medical Oncology)</b>, <b>Dr. Matthew David Galsky (Medical Oncology)</b>, <b>Dr. William K. Oh (Medical Oncology)</b>, <b>Dr. Marshall R. Posner (Medical Oncology)</b>, <b>Dr. Dawn L. Hershman (Medical Oncology)</b>, <b>Dr. Minaxi P. Jhawer (Medical Oncology)</b>, <b>Dr. Jill Morrison (Medical Oncology)</b>, <b>Dr. Gary K. Schwartz (Medical Oncology)</b>]\n"
     ]
    }
   ],
   "source": [
    "#list of good doctors from castle connolly page\n",
    "page = requests.get(\"http://www.castleconnolly.com/doctors/results.cfm?source=nymetro&speccode=041\")\n",
    "\n",
    "pagecontent = page.content\n",
    "soup = BeautifulSoup(pagecontent,'html.parser')\n",
    "#doctor names\n",
    "best_doctors = soup.find_all('b')\n"
   ]
  },
  {
   "cell_type": "code",
   "execution_count": 4,
   "metadata": {},
   "outputs": [
    {
     "data": {
      "text/plain": [
       "[<b>Dr. Paula Klein (Medical Oncology)</b>,\n",
       " <b>Dr. Maura N. Dickler (Medical Oncology)</b>,\n",
       " <b>Dr. Abraham Chachoua (Medical Oncology)</b>,\n",
       " <b>Dr. Michael L. Grossbard (Medical Oncology)</b>,\n",
       " <b>Dr. Anna C. Pavlick (Medical Oncology)</b>,\n",
       " <b>Dr. Julia A. Smith (Medical Oncology)</b>,\n",
       " <b>Dr. Peter S. Kozuch (Medical Oncology)</b>,\n",
       " <b>Dr. Paul B. Chapman (Medical Oncology)</b>,\n",
       " <b>Dr. Nancy E. Kemeny (Medical Oncology)</b>,\n",
       " <b>Dr. Mark G. Kris (Medical Oncology)</b>,\n",
       " <b>Dr. Eileen M. O'Reilly (Medical Oncology)</b>,\n",
       " <b>Dr. Diane Reidy-Lagunes (Medical Oncology)</b>,\n",
       " <b>Dr. William D. Tap (Medical Oncology)</b>,\n",
       " <b>Dr. Leonard B. Saltz (Medical Oncology)</b>,\n",
       " <b>Dr. Gabriel A. Sara (Medical Oncology)</b>,\n",
       " <b>Dr. Jedd D. Wolchok (Medical Oncology)</b>,\n",
       " <b>Dr. Carol A. Aghajanian (Medical Oncology)</b>,\n",
       " <b>Dr. Dean F. Bajorin (Medical Oncology)</b>,\n",
       " <b>Dr. Darren R. Feldman (Medical Oncology)</b>,\n",
       " <b>Dr. Michael J. Morris (Medical Oncology)</b>,\n",
       " <b>Dr. Larry Norton (Medical Oncology)</b>,\n",
       " <b>Dr. David G. Pfister (Medical Oncology)</b>,\n",
       " <b>Dr. Mark Emerson Robson (Medical Oncology)</b>,\n",
       " <b>Dr. Paul J. Sabbatini (Medical Oncology)</b>,\n",
       " <b>Dr. Howard I. Scher (Medical Oncology)</b>,\n",
       " <b>Dr. Linda T. Vahdat (Medical Oncology)</b>,\n",
       " <b>Dr. Andrew D. Zelenetz (Medical Oncology)</b>,\n",
       " <b>Dr. Jose T. Baselga (Medical Oncology)</b>,\n",
       " <b>Dr. Allyson J. Ocean (Medical Oncology)</b>,\n",
       " <b>Dr. Kenneth Offit (Medical Oncology)</b>,\n",
       " <b>Dr. Janice L. Gabrilove (Medical Oncology)</b>,\n",
       " <b>Dr. Gregory J. Riely (Medical Oncology)</b>,\n",
       " <b>Dr. Brenda D. Panzera (Medical Oncology)</b>,\n",
       " <b>Dr. Matthew David Galsky (Medical Oncology)</b>,\n",
       " <b>Dr. William K. Oh (Medical Oncology)</b>,\n",
       " <b>Dr. Marshall R. Posner (Medical Oncology)</b>,\n",
       " <b>Dr. Dawn L. Hershman (Medical Oncology)</b>,\n",
       " <b>Dr. Minaxi P. Jhawer (Medical Oncology)</b>,\n",
       " <b>Dr. Jill Morrison (Medical Oncology)</b>,\n",
       " <b>Dr. Gary K. Schwartz (Medical Oncology)</b>]"
      ]
     },
     "execution_count": 4,
     "metadata": {},
     "output_type": "execute_result"
    }
   ],
   "source": [
    "best_doctors"
   ]
  },
  {
   "cell_type": "code",
   "execution_count": 6,
   "metadata": {},
   "outputs": [
    {
     "data": {
      "text/plain": [
       "'Paula Klein'"
      ]
     },
     "execution_count": 6,
     "metadata": {},
     "output_type": "execute_result"
    }
   ],
   "source": [
    "best_doctor_names = [];\n",
    "for doctor in best_doctors:\n",
    "    name_temp = str(best_doctors[0])[7:-23];\n",
    "    n = name.split()\n",
    "    "
   ]
  },
  {
   "cell_type": "code",
   "execution_count": null,
   "metadata": {},
   "outputs": [],
   "source": []
  },
  {
   "cell_type": "code",
   "execution_count": null,
   "metadata": {},
   "outputs": [],
   "source": []
  }
 ],
 "metadata": {
  "kernelspec": {
   "display_name": "Python [default]",
   "language": "python",
   "name": "python3"
  },
  "language_info": {
   "codemirror_mode": {
    "name": "ipython",
    "version": 3
   },
   "file_extension": ".py",
   "mimetype": "text/x-python",
   "name": "python",
   "nbconvert_exporter": "python",
   "pygments_lexer": "ipython3",
   "version": "3.6.5"
  }
 },
 "nbformat": 4,
 "nbformat_minor": 2
}

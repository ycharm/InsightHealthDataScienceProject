{
 "cells": [
  {
   "cell_type": "markdown",
   "metadata": {},
   "source": [
    "Attempt topic modeling on the words in all abstracts and articles for best doctors only to categorize their specialties. The column \"Articlewords\" contains all titles amd abstracts of papers for the doctors."
   ]
  },
  {
   "cell_type": "code",
   "execution_count": 24,
   "metadata": {},
   "outputs": [],
   "source": [
    "#relevant imports\n",
    "import pandas as pd\n",
    "import numpy as np\n",
    "from sklearn.feature_extraction.text import TfidfVectorizer, CountVectorizer\n",
    "from nltk.corpus import stopwords\n",
    "from sklearn.decomposition import NMF, LatentDirichletAllocation"
   ]
  },
  {
   "cell_type": "code",
   "execution_count": 25,
   "metadata": {},
   "outputs": [
    {
     "data": {
      "text/plain": [
       "fullname\n",
       "Sylvia Adams         NFS1 undergoes positive selection in lung tumo...\n",
       "Michael Grossbard    Survival of Asian Females With Advanced Lung C...\n",
       "Francisco Esteva     A phase I trial of ganetespib in combination w...\n",
       "Cynthia Leichman     Phase II Study of Olaparib (AZD-2281) After St...\n",
       "Daniel Cho           Phase Ib Study of Safety and Pharmacokinetics ...\n",
       "Name: ArticleWords, dtype: object"
      ]
     },
     "execution_count": 25,
     "metadata": {},
     "output_type": "execute_result"
    }
   ],
   "source": [
    "#combine best docs in Boston and NY to one dataframe and do topic modeling on resultant text\n",
    "df = pd.read_pickle('BestNY.pkl')\n",
    "df_NY = pd.read_pickle('bestbos.pkl')\n",
    "df = pd.concat([df,df_NY])\n",
    "df = df.ArticleWords\n",
    "del df_NY\n",
    "df.head()"
   ]
  },
  {
   "cell_type": "code",
   "execution_count": 26,
   "metadata": {},
   "outputs": [
    {
     "data": {
      "text/plain": [
       "fullname\n",
       "Sylvia Adams         nfs1 undergoes positive selection in lung tumo...\n",
       "Michael Grossbard    survival of asian females with advanced lung c...\n",
       "Francisco Esteva     a phase i trial of ganetespib in combination w...\n",
       "Name: ArticleWords, dtype: object"
      ]
     },
     "execution_count": 26,
     "metadata": {},
     "output_type": "execute_result"
    }
   ],
   "source": [
    "#pre-process words \n",
    "#make lowercase\n",
    "df = df.apply(lambda x: \" \".join(x.lower() for x in x.split()))\n",
    "df.head(3)"
   ]
  },
  {
   "cell_type": "code",
   "execution_count": 27,
   "metadata": {},
   "outputs": [
    {
     "data": {
      "text/plain": [
       "fullname\n",
       "Sylvia Adams         nfs1 undergoes positive selection in lung tumo...\n",
       "Michael Grossbard    survival of asian females with advanced lung c...\n",
       "Francisco Esteva     a phase i trial of ganetespib in combination w...\n",
       "Cynthia Leichman     phase ii study of olaparib azd2281 after stand...\n",
       "Daniel Cho           phase ib study of safety and pharmacokinetics ...\n",
       "Name: ArticleWords, dtype: object"
      ]
     },
     "execution_count": 27,
     "metadata": {},
     "output_type": "execute_result"
    }
   ],
   "source": [
    "#remove punctuation\n",
    "df = df.str.replace('[^\\w\\s]','')\n",
    "df.head()"
   ]
  },
  {
   "cell_type": "code",
   "execution_count": 29,
   "metadata": {},
   "outputs": [
    {
     "data": {
      "text/plain": [
       "fullname\n",
       "Sylvia Adams         nfs1 undergoes positive selection lung tumours...\n",
       "Michael Grossbard    survival asian females advanced lung cancer er...\n",
       "Francisco Esteva     phase trial ganetespib combination paclitaxel ...\n",
       "Cynthia Leichman     phase ii study olaparib azd2281 standard syste...\n",
       "Daniel Cho           phase ib study safety pharmacokinetics pi3k in...\n",
       "Name: ArticleWords, dtype: object"
      ]
     },
     "execution_count": 29,
     "metadata": {},
     "output_type": "execute_result"
    }
   ],
   "source": [
    "#remove stopwords\n",
    "stop = stopwords.words('english')\n",
    "df = df.apply(lambda x: \" \".join(x for x in x.split() if x not in stop))\n",
    "df.head()"
   ]
  },
  {
   "cell_type": "code",
   "execution_count": 43,
   "metadata": {},
   "outputs": [
    {
     "data": {
      "text/plain": [
       "breast          4021\n",
       "tumor           3867\n",
       "cells           3703\n",
       "risk            3590\n",
       "disease         3320\n",
       "chemotherapy    3244\n",
       "associated      3231\n",
       "phase           3198\n",
       "dtype: int64"
      ]
     },
     "execution_count": 43,
     "metadata": {},
     "output_type": "execute_result"
    }
   ],
   "source": [
    "#most common words, tenth word is breast, should keep, not removing any, important for TF-IDF\n",
    "freq = pd.Series(' '.join(df).split()).value_counts()[:8]\n",
    "freq"
   ]
  },
  {
   "cell_type": "code",
   "execution_count": 44,
   "metadata": {},
   "outputs": [
    {
     "data": {
      "text/plain": [
       "fullname\n",
       "Sylvia Adams         nfs1 undergoes positive selection lung tumours...\n",
       "Michael Grossbard    asian females advanced lung era tyrosine kinas...\n",
       "Francisco Esteva     trial ganetespib combination paclitaxel trastu...\n",
       "Cynthia Leichman     ii olaparib azd2281 standard systemic therapie...\n",
       "Daniel Cho           ib safety pharmacokinetics pi3k inhibitor sar2...\n",
       "Name: ArticleWords, dtype: object"
      ]
     },
     "execution_count": 44,
     "metadata": {},
     "output_type": "execute_result"
    }
   ],
   "source": [
    "#remove most common words\n",
    "freq = list(freq.index)\n",
    "df = df.apply(lambda x: \" \".join(x for x in x.split() if x not in freq))\n",
    "df.head()"
   ]
  },
  {
   "cell_type": "code",
   "execution_count": 45,
   "metadata": {},
   "outputs": [
    {
     "data": {
      "text/plain": [
       "mirvetuximab       10\n",
       "generator          10\n",
       "originate          10\n",
       "conformational     10\n",
       "vulnerabilities    10\n",
       "dtype: int64"
      ]
     },
     "execution_count": 45,
     "metadata": {},
     "output_type": "execute_result"
    }
   ],
   "source": [
    "#remove rare words: all words repeated less than 10 times? \n",
    "freq = pd.Series(' '.join(df).split()).value_counts()[-29000:]\n",
    "freq.head()"
   ]
  },
  {
   "cell_type": "code",
   "execution_count": 46,
   "metadata": {},
   "outputs": [
    {
     "data": {
      "text/plain": [
       "ipeptidedisplaying       1\n",
       "gemcitabineresistance    1\n",
       "therapyresistance        1\n",
       "apxl                     1\n",
       "damagedna                1\n",
       "dtype: int64"
      ]
     },
     "execution_count": 46,
     "metadata": {},
     "output_type": "execute_result"
    }
   ],
   "source": [
    "freq.tail()"
   ]
  },
  {
   "cell_type": "code",
   "execution_count": 47,
   "metadata": {},
   "outputs": [],
   "source": [
    "#this takes a WHILE to run, be careful!\n",
    "freq = list(freq.index)\n",
    "df = df.apply(lambda x: \" \".join(x for x in x.split() if x not in freq))"
   ]
  },
  {
   "cell_type": "code",
   "execution_count": 48,
   "metadata": {},
   "outputs": [
    {
     "data": {
      "text/plain": [
       "fullname\n",
       "Sylvia Adams         positive selection lung tumours protects envir...\n",
       "Michael Grossbard    asian females advanced lung era tyrosine kinas...\n",
       "Francisco Esteva     trial ganetespib combination paclitaxel trastu...\n",
       "Cynthia Leichman     ii olaparib standard systemic therapies dissem...\n",
       "Daniel Cho           ib safety pharmacokinetics pi3k inhibitor huma...\n",
       "Name: ArticleWords, dtype: object"
      ]
     },
     "execution_count": 48,
     "metadata": {},
     "output_type": "execute_result"
    }
   ],
   "source": [
    "df.head()"
   ]
  },
  {
   "cell_type": "code",
   "execution_count": 49,
   "metadata": {},
   "outputs": [
    {
     "data": {
      "text/plain": [
       "99"
      ]
     },
     "execution_count": 49,
     "metadata": {},
     "output_type": "execute_result"
    }
   ],
   "source": [
    "len(df)"
   ]
  },
  {
   "cell_type": "code",
   "execution_count": 50,
   "metadata": {},
   "outputs": [],
   "source": [
    "# NMF is able to use tf-idf, LDA does not. try both\n",
    "no_features = 1000\n",
    "\n",
    "tfidf_vectorizer = TfidfVectorizer(max_df=0.95, min_df=2, max_features=no_features, stop_words='english')\n",
    "tfidf = tfidf_vectorizer.fit_transform(documents)\n",
    "tfidf_feature_names = tfidf_vectorizer.get_feature_names()\n"
   ]
  },
  {
   "cell_type": "code",
   "execution_count": 51,
   "metadata": {},
   "outputs": [],
   "source": [
    "# LDA can only use raw term counts for LDA because it is a probabilistic graphical model\n",
    "tf_vectorizer = CountVectorizer(max_df=0.95, min_df=2, max_features=no_features, stop_words='english')\n",
    "tf = tf_vectorizer.fit_transform(documents)\n",
    "tf_feature_names = tf_vectorizer.get_feature_names()"
   ]
  },
  {
   "cell_type": "code",
   "execution_count": 52,
   "metadata": {},
   "outputs": [],
   "source": [
    "no_topics = 15\n",
    "\n",
    "# Run NMF\n",
    "nmf = NMF(n_components=no_topics, random_state=1, alpha=.1, l1_ratio=.5, init='nndsvd').fit(tfidf)\n",
    "\n",
    "# Run LDA\n",
    "lda = LatentDirichletAllocation(n_components=no_topics, max_iter=5, learning_method='online', learning_offset=50.,random_state=0).fit(tf)\n",
    "\n",
    "no_top_words = 10"
   ]
  },
  {
   "cell_type": "code",
   "execution_count": 53,
   "metadata": {},
   "outputs": [],
   "source": [
    "def display_topics(model, feature_names, no_top_words):\n",
    "    for topic_idx, topic in enumerate(model.components_):\n",
    "        print(\"Topic %d:\" % (topic_idx))\n",
    "        print(\" \".join([feature_names[i]\n",
    "                        for i in topic.argsort()[:-no_top_words - 1:-1]]))"
   ]
  },
  {
   "cell_type": "code",
   "execution_count": 54,
   "metadata": {},
   "outputs": [
    {
     "name": "stdout",
     "output_type": "stream",
     "text": [
      "Topic 0:\n",
      "inhibitor factor gene carcinoma activity result growth combination human protein\n",
      "Topic 1:\n",
      "lymphoma hodgkin hl dlbcl rituximab bcell mcl nhl relapsed nonhodgkin\n",
      "Topic 2:\n",
      "prostate castrationresistant androgen men ar deprivation crpc psa adt prednisone\n",
      "Topic 3:\n",
      "ovarian serous epithelial endometrial eoc uterine recurrent gynecologic carboplatin paclitaxel\n",
      "Topic 4:\n",
      "colorectal pancreatic rectal colon crc neuroendocrine oxaliplatin irinotecan 5fluorouracil hepatic\n",
      "Topic 5:\n",
      "leukemia acute aml transplantation myeloid hct allogeneic gvhd hematopoietic donor\n",
      "Topic 6:\n",
      "melanoma ipilimumab immune vaccine ctla4 immunotherapy antigen antibody braf nivolumab\n",
      "Topic 7:\n",
      "myeloma mm bortezomib lenalidomide dexamethasone relapsed proteasome bone marrow thalidomide\n",
      "Topic 8:\n",
      "urothelial bladder germ carcinoma cisplatin lymph pdl1 firstline node testicular\n",
      "Topic 9:\n",
      "sarcoma gist osteosarcoma soft stromal imatinib kit tissue gastrointestinal pdl1\n",
      "Topic 10:\n",
      "brca1 mutation brca2 carrier ovarian woman susceptibility variant brca germline\n",
      "Topic 11:\n",
      "trastuzumab her2 woman adjuvant paclitaxel cyclophosphamide epidermal earlystage vitamin recurrence\n",
      "Topic 12:\n",
      "neck head squamous carcinoma radiation thyroid rt radiotherapy cetuximab primary\n",
      "Topic 13:\n",
      "lung egfr nsclc mutation nonsmall adenocarcinoma gefitinib erlotinib nonsmallcell resistance\n",
      "Topic 14:\n",
      "renal rcc carcinoma mrcc sunitinib il2 sorafenib mtor inhibitor nivolumab\n"
     ]
    }
   ],
   "source": [
    "#check Non-negative Matrix Factorization topics\n",
    "display_topics(nmf, tfidf_feature_names, no_top_words)"
   ]
  },
  {
   "cell_type": "code",
   "execution_count": 55,
   "metadata": {},
   "outputs": [
    {
     "name": "stdout",
     "output_type": "stream",
     "text": [
      "Topic 0:\n",
      "leukemia prostate acute inhibitor lymphoma year gene mutation factor drug\n",
      "Topic 1:\n",
      "transplantation acute leukemia stem donor blood allogeneic year ci hematopoietic\n",
      "Topic 2:\n",
      "woman adjuvant mutation age ovarian young year factor carcinoma recurrence\n",
      "Topic 3:\n",
      "prostate gene mutation factor inhibitor analysis carcinoma ovarian group result\n",
      "Topic 4:\n",
      "lymphoma inhibitor prostate activity factor overall strategy hodgkin rate refractory\n",
      "Topic 5:\n",
      "prostate leukemia acute men bone androgen aml myeloid mutation year\n",
      "Topic 6:\n",
      "mm myeloma inhibitor mutation activity lymphoma colorectal bone novel growth\n",
      "Topic 7:\n",
      "lung mutation egfr colorectal inhibitor carcinoma factor adenocarcinoma growth resistance\n",
      "Topic 8:\n",
      "colorectal mutation association woman 95 brca1 ci carrier gene brca2\n",
      "Topic 9:\n",
      "prostate mutation castrationresistant factor analysis androgen gene result men 95\n",
      "Topic 10:\n",
      "lymphoma myeloma mm inhibitor relapsed bortezomib activity hodgkin combination novel\n",
      "Topic 11:\n",
      "gene sarcoma mutation nf1 lung analysis inhibitor result factor activity\n",
      "Topic 12:\n",
      "carcinoma melanoma ovarian inhibitor mutation factor gene growth activity human\n",
      "Topic 13:\n",
      "lymphoma lung inhibitor egfr mutation year transplantation activity effect factor\n",
      "Topic 14:\n",
      "mutation inhibitor carcinoma result prostate melanoma gene lymphoma lung analysis\n"
     ]
    }
   ],
   "source": [
    "#check LDA topics\n",
    "display_topics(lda, tf_feature_names, no_top_words)\n"
   ]
  },
  {
   "cell_type": "markdown",
   "metadata": {},
   "source": [
    "### We can see that NMF outperforms LDA, likely because it uses TF-IDF scoring."
   ]
  },
  {
   "cell_type": "code",
   "execution_count": 56,
   "metadata": {},
   "outputs": [],
   "source": [
    "#manually label each speciality\n",
    "topic_list = [\"General Neoplasms\",\"Lymphoma\",\n",
    "              \"Prostrate Cancer\",\"Ovarian Cancer\",\"Pancreatic & Colorectal Cancer\"\n",
    "              ,\"Leukemia\",\"Melanoma\",\"Myeloma & Marrow Cancer\",\n",
    "             \"Bladder Cancer\",\"Osteosarcoma\",\"Breast Cancer\",\"Early Stage Breast Cancer\",\n",
    "              \"Head & Neck Tumors\",\"Lung Cancer\", \"Kidney Cancer\"]"
   ]
  },
  {
   "cell_type": "code",
   "execution_count": 57,
   "metadata": {},
   "outputs": [],
   "source": [
    "#doc_topic_mat = model.transform(word_embedding)\n",
    "#model.transform = nmf.transform\n",
    "word_embedding = tf_vectorizer.fit_transform(documents)\n",
    "\n",
    "#check the matrix that assigns each doctor a rank for the specialty\n",
    "doc_topic_mat = nmf.transform(word_embedding)\n",
    "\n"
   ]
  },
  {
   "cell_type": "code",
   "execution_count": 58,
   "metadata": {},
   "outputs": [
    {
     "data": {
      "text/plain": [
       "(99, 15)"
      ]
     },
     "execution_count": 58,
     "metadata": {},
     "output_type": "execute_result"
    }
   ],
   "source": [
    "#see what this looks like.\n",
    "doc_topic_mat.shape"
   ]
  },
  {
   "cell_type": "code",
   "execution_count": 59,
   "metadata": {},
   "outputs": [
    {
     "data": {
      "text/plain": [
       "array([[11,  6,  0],\n",
       "       [ 4,  1,  0],\n",
       "       [13,  0, 11],\n",
       "       [11,  4,  0],\n",
       "       [ 6,  0, 14],\n",
       "       [ 4, 11,  0],\n",
       "       [13,  0, 12],\n",
       "       [ 1,  5,  0],\n",
       "       [10,  8,  0],\n",
       "       [ 1, 13,  0],\n",
       "       [ 5,  2,  0],\n",
       "       [14,  2,  0],\n",
       "       [ 1,  4,  0],\n",
       "       [ 5, 10,  0],\n",
       "       [ 3,  0,  1],\n",
       "       [ 1,  0,  7],\n",
       "       [ 5,  0,  7],\n",
       "       [ 1,  0, 12],\n",
       "       [13, 11,  0],\n",
       "       [ 4,  0, 11],\n",
       "       [ 0, 12,  5],\n",
       "       [ 5,  6, 14],\n",
       "       [ 7,  1,  0],\n",
       "       [ 4,  0, 10],\n",
       "       [14,  8,  0],\n",
       "       [ 2, 13,  0],\n",
       "       [10, 13,  0],\n",
       "       [10, 13,  0],\n",
       "       [ 6,  9,  0],\n",
       "       [ 3,  0, 11],\n",
       "       [10,  3,  0],\n",
       "       [10, 13,  0],\n",
       "       [13,  4,  0],\n",
       "       [14, 12,  0],\n",
       "       [ 4,  3,  0],\n",
       "       [10,  5,  0],\n",
       "       [14,  4,  0],\n",
       "       [ 6,  9,  0],\n",
       "       [13,  0,  6],\n",
       "       [11, 13,  0],\n",
       "       [ 9,  3,  0],\n",
       "       [10, 13,  0],\n",
       "       [ 8, 14,  0],\n",
       "       [ 9,  0,  6],\n",
       "       [12,  8,  0],\n",
       "       [11,  4,  0],\n",
       "       [12,  2,  0],\n",
       "       [ 1,  5,  0],\n",
       "       [ 5,  0,  2],\n",
       "       [ 2,  0, 12],\n",
       "       [ 3, 11,  0],\n",
       "       [ 5,  0,  1],\n",
       "       [ 6,  5,  0],\n",
       "       [10,  3,  0],\n",
       "       [ 6,  0,  1],\n",
       "       [ 6,  2,  0],\n",
       "       [12,  0,  4],\n",
       "       [10, 13,  0],\n",
       "       [ 3,  0, 10],\n",
       "       [ 1,  6,  0],\n",
       "       [ 9,  5,  0],\n",
       "       [ 1,  0,  5],\n",
       "       [10,  0, 13],\n",
       "       [ 7,  1,  0],\n",
       "       [11,  0, 13],\n",
       "       [10, 11,  0],\n",
       "       [ 7,  1,  0],\n",
       "       [13,  0,  9],\n",
       "       [ 2,  0, 10],\n",
       "       [13,  4,  0],\n",
       "       [ 1,  0,  7],\n",
       "       [ 9,  0,  7],\n",
       "       [ 5,  0,  1],\n",
       "       [ 5, 13,  0],\n",
       "       [ 5,  0,  1],\n",
       "       [10,  0,  3],\n",
       "       [ 5,  0,  2],\n",
       "       [ 2,  0, 14],\n",
       "       [10,  0,  5],\n",
       "       [ 1,  0,  5],\n",
       "       [10,  3,  0],\n",
       "       [14,  4,  0],\n",
       "       [12,  4,  0],\n",
       "       [ 8,  0,  2],\n",
       "       [ 3,  2,  0],\n",
       "       [14,  9,  0],\n",
       "       [10, 13,  0],\n",
       "       [ 6,  0, 14],\n",
       "       [ 1,  5,  0],\n",
       "       [ 3,  0,  9],\n",
       "       [10, 13,  0],\n",
       "       [10,  4,  0],\n",
       "       [12,  4,  0],\n",
       "       [11, 10,  0],\n",
       "       [11,  0, 10],\n",
       "       [10, 11,  0],\n",
       "       [10,  4,  0],\n",
       "       [14,  8,  0],\n",
       "       [10,  2,  0]])"
      ]
     },
     "execution_count": 59,
     "metadata": {},
     "output_type": "execute_result"
    }
   ],
   "source": [
    "#SAVE top 3 topics/specialties. It is expected that all docs will be in \"general\" category. \n",
    "indices_top_3_topics = np.argpartition(doc_topic_mat, -3, axis=1)[:, -3:]\n",
    "indices_top_3_topics"
   ]
  },
  {
   "cell_type": "markdown",
   "metadata": {},
   "source": [
    "### These topics can now be used to suggest doctor speciality. "
   ]
  }
 ],
 "metadata": {
  "kernelspec": {
   "display_name": "Python [conda env:insight]",
   "language": "python",
   "name": "conda-env-insight-py"
  },
  "language_info": {
   "codemirror_mode": {
    "name": "ipython",
    "version": 3
   },
   "file_extension": ".py",
   "mimetype": "text/x-python",
   "name": "python",
   "nbconvert_exporter": "python",
   "pygments_lexer": "ipython3",
   "version": "3.6.5"
  }
 },
 "nbformat": 4,
 "nbformat_minor": 2
}
